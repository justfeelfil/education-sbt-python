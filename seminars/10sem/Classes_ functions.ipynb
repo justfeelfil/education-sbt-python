{
 "cells": [
  {
   "cell_type": "code",
   "execution_count": 1,
   "metadata": {
    "collapsed": true
   },
   "outputs": [],
   "source": [
    "import numpy as np\n",
    "import pandas as pd\n",
    "from tqdm import tqdm"
   ]
  },
  {
   "cell_type": "markdown",
   "metadata": {},
   "source": [
    "# 1. Что такое функции и как их писать\n",
    "#### Делаем данные"
   ]
  },
  {
   "cell_type": "code",
   "execution_count": 2,
   "metadata": {
    "collapsed": true
   },
   "outputs": [],
   "source": [
    "data_list = ['{0} C'.format(x) for x in range(1, 10000)]\n",
    "data_array = np.array(data_list)\n",
    "data_dataframe = pd.DataFrame({'col':data_list})\n",
    "\n",
    "def celcius_to_farengate(temp):\n",
    "    return float(temp.split(' C')[0])*9./5 + 32\n",
    "\n",
    "celcius_to_farengate = lambda x: float(x.split(' C')[0])*9./5 + 32"
   ]
  },
  {
   "cell_type": "markdown",
   "metadata": {},
   "source": [
    "#### Как применять функции"
   ]
  },
  {
   "cell_type": "code",
   "execution_count": 3,
   "metadata": {
    "collapsed": true
   },
   "outputs": [],
   "source": [
    "data_list_apply = map( celcius_to_farengate, data_list)"
   ]
  },
  {
   "cell_type": "code",
   "execution_count": 4,
   "metadata": {
    "collapsed": true
   },
   "outputs": [],
   "source": [
    "data_list_apply = [celcius_to_farengate(el) for el in data_list]"
   ]
  },
  {
   "cell_type": "code",
   "execution_count": 5,
   "metadata": {
    "collapsed": true
   },
   "outputs": [],
   "source": [
    "array_func = np.vectorize(celcius_to_farengate)"
   ]
  },
  {
   "cell_type": "code",
   "execution_count": 6,
   "metadata": {
    "collapsed": true
   },
   "outputs": [],
   "source": [
    "data_array_apply = array_func(data_array)"
   ]
  },
  {
   "cell_type": "code",
   "execution_count": 7,
   "metadata": {
    "collapsed": true
   },
   "outputs": [],
   "source": [
    "data_dataframe['apply'] = data_dataframe['col'].apply(celcius_to_farengate)"
   ]
  },
  {
   "cell_type": "markdown",
   "metadata": {},
   "source": [
    "#### Отступление - tqdm!"
   ]
  },
  {
   "cell_type": "code",
   "execution_count": 8,
   "metadata": {},
   "outputs": [
    {
     "name": "stderr",
     "output_type": "stream",
     "text": [
      "100%|██████████████████████████████████████████████████████████████████████████| 9999/9999 [00:00<00:00, 769153.17it/s]\n"
     ]
    }
   ],
   "source": [
    "data_list_apply = [celcius_to_farengate(el) for el in tqdm(data_list)]"
   ]
  },
  {
   "cell_type": "markdown",
   "metadata": {},
   "source": [
    "### Про args и kwargs - часто встречаются в классах"
   ]
  },
  {
   "cell_type": "code",
   "execution_count": 10,
   "metadata": {},
   "outputs": [
    {
     "name": "stdout",
     "output_type": "stream",
     "text": [
      "20\n",
      "90\n",
      "24\n",
      "900\n"
     ]
    }
   ],
   "source": [
    "# Args - аргументы без ключевого слова, их может быть сколько угодно\n",
    "def multiply(*args):\n",
    "    z = 1\n",
    "    for num in args:\n",
    "        z *= num\n",
    "    print z\n",
    "\n",
    "multiply(4, 5)\n",
    "multiply(10, 9)\n",
    "multiply(2, 3, 4)\n",
    "multiply(3, 5, 10, 6)"
   ]
  },
  {
   "cell_type": "code",
   "execution_count": 11,
   "metadata": {},
   "outputs": [
    {
     "name": "stdout",
     "output_type": "stream",
     "text": [
      "{'kwargs_1': 'Shark', 'kwargs_2': 4.5, 'kwargs_3': True}\n"
     ]
    }
   ],
   "source": [
    "# Kwargs - аргументы с ключевым словом, их тоже может быть сколько угодно\n",
    "def print_kwargs(**kwargs):\n",
    "        print kwargs\n",
    "\n",
    "print_kwargs(kwargs_1=\"Shark\", kwargs_2=4.5, kwargs_3=True)"
   ]
  },
  {
   "cell_type": "markdown",
   "metadata": {},
   "source": [
    "# Как писать и применять классы"
   ]
  },
  {
   "cell_type": "code",
   "execution_count": 12,
   "metadata": {},
   "outputs": [
    {
     "name": "stdout",
     "output_type": "stream",
     "text": [
      "Hello my age is 36\n"
     ]
    }
   ],
   "source": [
    "#### Классический пример\n",
    "class Person:\n",
    "    def __init__(self, name, age):\n",
    "        self.name = name\n",
    "        self.age = age\n",
    "\n",
    "    def namefunc(self):\n",
    "        print \"Hello my name is {0}\".format(self.name)\n",
    "        \n",
    "    def agefunc(self):\n",
    "        print \"Hello my age is {0}\".format(self.age)\n",
    "    \n",
    "\n",
    "p1 = Person(\"John\", 36)\n",
    "p1.agefunc()"
   ]
  },
  {
   "cell_type": "markdown",
   "metadata": {},
   "source": [
    "### Декораторы"
   ]
  },
  {
   "cell_type": "code",
   "execution_count": 13,
   "metadata": {
    "collapsed": true
   },
   "outputs": [],
   "source": [
    "import time\n",
    "\n",
    "def timer(f):\n",
    "    def tmp(*args, **kwargs):\n",
    "        t = time.time()\n",
    "        res = f(*args, **kwargs)\n",
    "        print \"Время выполнения функции %s: %f\" % (str(f), (time.time()-t))\n",
    "        return res\n",
    "\n",
    "    return tmp\n"
   ]
  },
  {
   "cell_type": "code",
   "execution_count": 14,
   "metadata": {},
   "outputs": [
    {
     "name": "stdout",
     "output_type": "stream",
     "text": [
      "Время выполнения функции <function sqr at 0x000000000F52CCF8>: 0.004000\n",
      "Время выполнения функции <function sqr at 0x000000000F52CCF8>: 0.004000\n",
      "Время выполнения функции <function sqr at 0x000000000F52CCF8>: 0.003000\n",
      "Время выполнения функции <function sqr at 0x000000000F52CCF8>: 0.003000\n",
      "Время выполнения функции <function sqr at 0x000000000F52CCF8>: 0.003000\n",
      "Время выполнения функции <function sqr at 0x000000000F52CCF8>: 0.004000\n",
      "Время выполнения функции <function sqr at 0x000000000F52CCF8>: 0.004000\n",
      "Время выполнения функции <function sqr at 0x000000000F52CCF8>: 0.003000\n",
      "Время выполнения функции <function sqr at 0x000000000F52CCF8>: 0.004000\n",
      "Время выполнения функции <function sqr at 0x000000000F52CCF8>: 0.003000\n"
     ]
    }
   ],
   "source": [
    "@timer\n",
    "def sqr(x):\n",
    "    return x ** 19000\n",
    "\n",
    "for k in range(10):\n",
    "    sqr(3 ** 7)"
   ]
  },
  {
   "cell_type": "markdown",
   "metadata": {},
   "source": [
    "# Всякие полезные хаки для питона и не только, если останется время"
   ]
  },
  {
   "cell_type": "markdown",
   "metadata": {},
   "source": [
    "## Markdown!\n",
    "#### Что такое markdown и всякие прикольные штуки для него\n",
    "###### Всякие вещи...\n",
    "** Можно писать жирным шрифтом **\n"
   ]
  },
  {
   "cell_type": "markdown",
   "metadata": {},
   "source": [
    "`Можно добавлять таблички`\n",
    "\n",
    "| Tables        | Are           | Cool  |\n",
    "| ------------- |:-------------:| -----:|\n",
    "| col 3 is      | right-aligned | 1600 |\n",
    "| col 2 is      | centered      |   12 |\n",
    "| zebra stripes | are neat      |    1 |"
   ]
  },
  {
   "cell_type": "markdown",
   "metadata": {},
   "source": [
    "Можно писать формулы\n",
    "\n",
    "$$e^x=\\sum_{i=0}^\\infty \\frac{1}{i!}x^i$$"
   ]
  },
  {
   "cell_type": "markdown",
   "metadata": {},
   "source": [
    "`Можно добавлять таблички`\n",
    "\n",
    "| Tables                                     | Are           | Cool  |\n",
    "| ------------------------------------------ |:-------------:| -----:|\n",
    "| $$e^x=\\sum_{i=0}^\\infty \\frac{1}{i!}x^i$$     | makloren formula | 1 |\n"
   ]
  },
  {
   "cell_type": "markdown",
   "metadata": {},
   "source": [
    "<font color='green' size =4.2 style='times new roman'>Писать разными цветами, размерами и шрифтами, потому что в markdown можно протаскивать html</font>\n",
    "\n",
    "<font color='pink' size =4.2 style='helvetica'>Писать разными цветами, потому что в markdown можно протаскивать html</font>"
   ]
  },
  {
   "cell_type": "markdown",
   "metadata": {},
   "source": [
    "## Правила pep8\n",
    "Ссылка https://pythonworld.ru/osnovy/pep-8-rukovodstvo-po-napisaniyu-koda-na-python.html"
   ]
  }
 ],
 "metadata": {
  "kernelspec": {
   "display_name": "Python 3",
   "language": "python",
   "name": "python3"
  },
  "language_info": {
   "codemirror_mode": {
    "name": "ipython",
    "version": 3
   },
   "file_extension": ".py",
   "mimetype": "text/x-python",
   "name": "python",
   "nbconvert_exporter": "python",
   "pygments_lexer": "ipython3",
   "version": "3.6.2"
  }
 },
 "nbformat": 4,
 "nbformat_minor": 2
}
