{
 "cells": [
  {
   "cell_type": "code",
   "execution_count": 1,
   "metadata": {},
   "outputs": [],
   "source": [
    "import numpy as np"
   ]
  },
  {
   "cell_type": "markdown",
   "metadata": {},
   "source": [
    "### Напишите функцию bootstrap, оценивающую распределение среднего\n",
    "\n",
    "Приведите примеры работы"
   ]
  },
  {
   "cell_type": "code",
   "execution_count": 2,
   "metadata": {},
   "outputs": [],
   "source": [
    "def bootstrap(X_data, iters_count):\n",
    "    mean_array = []\n",
    "    for i in range(iters_count + 1):\n",
    "        indeces = np.random.randint(len(X_data), size=len(X_data))    \n",
    "        new_massive = X_data[indeces]\n",
    "        mean_array.append(np.mean(new_massive)) \n",
    "    return mean_array    "
   ]
  },
  {
   "cell_type": "code",
   "execution_count": 3,
   "metadata": {},
   "outputs": [],
   "source": [
    "kolya2floor =np.array([1,2,3,4,5,6,7,8,9,10])"
   ]
  },
  {
   "cell_type": "code",
   "execution_count": 4,
   "metadata": {},
   "outputs": [
    {
     "data": {
      "text/plain": [
       "[3.9, 5.5, 5.4, 4.0, 5.7, 5.6]"
      ]
     },
     "execution_count": 4,
     "metadata": {},
     "output_type": "execute_result"
    }
   ],
   "source": [
    "bootstrap(kolya2floor, 5)"
   ]
  },
  {
   "cell_type": "markdown",
   "metadata": {},
   "source": [
    "### Напишите функцию оценивающую среднее и дисперсию по файлу (должно работать с большими файлами)\n",
    "\n",
    "Приведите примеры работы, оцените время работы функции"
   ]
  },
  {
   "cell_type": "code",
   "execution_count": 5,
   "metadata": {},
   "outputs": [],
   "source": [
    "def estimate(iterable):\n",
    "    n = 0.\n",
    "    summa = 0.\n",
    "    summa_2= 0.\n",
    "    for x in iterable:\n",
    "        n+=1\n",
    "        summa+=x\n",
    "        summa_2+=x**2\n",
    "    mean = summa/n\n",
    "    variance = (summa_2-(summa**2)/n)/n\n",
    "    print (mean, variance)"
   ]
  },
  {
   "cell_type": "code",
   "execution_count": 6,
   "metadata": {},
   "outputs": [
    {
     "name": "stdout",
     "output_type": "stream",
     "text": [
      "5.5 8.25\n"
     ]
    }
   ],
   "source": [
    "mas = [1,2,3,4,5,6,7,8,9,10]\n",
    "estimate(mas)"
   ]
  }
 ],
 "metadata": {
  "kernelspec": {
   "display_name": "Python 3",
   "language": "python",
   "name": "python3"
  },
  "language_info": {
   "codemirror_mode": {
    "name": "ipython",
    "version": 3
   },
   "file_extension": ".py",
   "mimetype": "text/x-python",
   "name": "python",
   "nbconvert_exporter": "python",
   "pygments_lexer": "ipython3",
   "version": "3.6.2"
  }
 },
 "nbformat": 4,
 "nbformat_minor": 2
}
