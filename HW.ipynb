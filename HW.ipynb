{
 "cells": [
  {
   "cell_type": "markdown",
   "metadata": {},
   "source": [
    "# 1 Python (done)"
   ]
  },
  {
   "cell_type": "markdown",
   "metadata": {},
   "source": [
    "###### 1. Чем отличаются $list$ и $tuple$? Что из них можно использовать в качестве ключа в $dict$ и добавлять в $set$? Почему? На какой структуре данных реализован $dict$ в $python$? Чем оличаются $range$ от $xrange$ в $Python 2.x$? Что такое $list$ $comprehension$? Как работают функции $map$ и $reduce$ в $Python$?"
   ]
  },
  {
   "cell_type": "markdown",
   "metadata": {},
   "source": [
    "$List$ - изменяемый тип данных, $tuple$ - неизменяемый. $Tuple$ можно использовать в качестве ключа для $dict$ и добавлять в $set$, так как $dict$ и $set$ используют хэш-функцию. $Dict$ - это хеш-таблица.\n",
    "\n",
    "$Range$ в $Python 2.x$ возвращает $list$, а $xrange$ - генератор, создает объект $xrange$. Производит те же элементы, что и $range$, но не сохраняет их\n",
    "\n",
    "$List$ $comprehension$ - генератор для создания массивов.\n",
    "\n",
    "$map()$ - это функция, принимающая аргументами другую функцию одного аргумента и массив. Возвращаемым значеним $map()$ является итератор по массиву, образованному из первоначального применением функции ко всем его элементам. \n",
    "\n",
    "Функция $reduce()$ имеет те же аргументы, как и $map()$, последовательно применяет функцию к элементам массива, а на выходе получается одно значение."
   ]
  },
  {
   "cell_type": "markdown",
   "metadata": {},
   "source": [
    "###### 2. Напишите рекурсивную функцию, возвращающую N-e число Фибоначчи. Проверьте работу для небольших N. Выясните, для какого N начинаются проблемы с глубиной рекурсии. Измерьте время выполнения функции."
   ]
  },
  {
   "cell_type": "code",
   "execution_count": 2,
   "metadata": {},
   "outputs": [],
   "source": [
    "def fib(n):\n",
    "    if n == 0 or n == 1:\n",
    "        return 1\n",
    "    else:\n",
    "        return fib(n-1) + fib(n-2)\n",
    "def fib2(n):\n",
    "    arr_fib = [0, 1]\n",
    "    if n == 0 or n == 1:\n",
    "        return 1\n",
    "    else:\n",
    "        for i in range(n-1):\n",
    "            arr_fib.append(arr_fib[i] + arr_fib[i+1])\n",
    "    return arr_fib[-1]      "
   ]
  },
  {
   "cell_type": "code",
   "execution_count": 3,
   "metadata": {},
   "outputs": [
    {
     "name": "stdout",
     "output_type": "stream",
     "text": [
      "483 ns ± 14.1 ns per loop (mean ± std. dev. of 7 runs, 1000000 loops each)\n"
     ]
    }
   ],
   "source": [
    "%%timeit\n",
    "fib(2)"
   ]
  },
  {
   "cell_type": "code",
   "execution_count": 4,
   "metadata": {},
   "outputs": [
    {
     "name": "stdout",
     "output_type": "stream",
     "text": [
      "11.7 µs ± 106 ns per loop (mean ± std. dev. of 7 runs, 100000 loops each)\n"
     ]
    }
   ],
   "source": [
    "%%timeit\n",
    "fib(8)"
   ]
  },
  {
   "cell_type": "code",
   "execution_count": 5,
   "metadata": {},
   "outputs": [
    {
     "name": "stdout",
     "output_type": "stream",
     "text": [
      "1.71 µs ± 13.9 ns per loop (mean ± std. dev. of 7 runs, 1000000 loops each)\n"
     ]
    }
   ],
   "source": [
    "%%timeit\n",
    "fib2(8)"
   ]
  },
  {
   "cell_type": "code",
   "execution_count": 6,
   "metadata": {},
   "outputs": [
    {
     "name": "stdout",
     "output_type": "stream",
     "text": [
      "1.23 s ± 18 ms per loop (mean ± std. dev. of 7 runs, 1 loop each)\n"
     ]
    }
   ],
   "source": [
    "%%timeit\n",
    "fib(32)"
   ]
  },
  {
   "cell_type": "code",
   "execution_count": 7,
   "metadata": {},
   "outputs": [
    {
     "name": "stdout",
     "output_type": "stream",
     "text": [
      "6.2 µs ± 276 ns per loop (mean ± std. dev. of 7 runs, 100000 loops each)\n"
     ]
    }
   ],
   "source": [
    "%%timeit\n",
    "fib2(32)"
   ]
  },
  {
   "cell_type": "markdown",
   "metadata": {},
   "source": [
    "###### 4. Напишите функцию, возвращающую модуль и аргумент комплексного числа по заданной мнимой и действительной части. Какой тип возвращаемого значения? "
   ]
  },
  {
   "cell_type": "code",
   "execution_count": 8,
   "metadata": {},
   "outputs": [],
   "source": [
    "import math"
   ]
  },
  {
   "cell_type": "code",
   "execution_count": 9,
   "metadata": {},
   "outputs": [],
   "source": [
    "def cmplx_mod_arg(real, imagine):\n",
    "    cmplx_mod = (real**2 + imagine**2)**0.5\n",
    "    float_equality_threshold = 10e-9\n",
    "    if(real <= float_equality_threshold):\n",
    "        if (imagine > 0):\n",
    "            cmplx_arg = math.pi * (1/2)\n",
    "        else:\n",
    "            cmplx_arg = math.pi * (3/2)\n",
    "    else:\n",
    "        cmplx_arg = math.atan(imagine/real)    \n",
    "    return cmplx_mod, cmplx_arg"
   ]
  },
  {
   "cell_type": "code",
   "execution_count": 10,
   "metadata": {
    "scrolled": true
   },
   "outputs": [
    {
     "data": {
      "text/plain": [
       "(1.4142135623730951, 0.7853981633974483)"
      ]
     },
     "execution_count": 10,
     "metadata": {},
     "output_type": "execute_result"
    }
   ],
   "source": [
    "a = cmplx_mod_arg(1, 1)\n",
    "a"
   ]
  },
  {
   "cell_type": "code",
   "execution_count": 11,
   "metadata": {},
   "outputs": [
    {
     "data": {
      "text/plain": [
       "tuple"
      ]
     },
     "execution_count": 11,
     "metadata": {},
     "output_type": "execute_result"
    }
   ],
   "source": [
    "type(a)"
   ]
  },
  {
   "cell_type": "markdown",
   "metadata": {},
   "source": [
    "###### 5. Напишите $docstrings$ к вашей последней функции. Проверьте, что написанные в $docstrings$ примеры выполняются, без явного копирования кода оттуда."
   ]
  },
  {
   "cell_type": "code",
   "execution_count": 12,
   "metadata": {},
   "outputs": [],
   "source": [
    "import doctest"
   ]
  },
  {
   "cell_type": "code",
   "execution_count": 13,
   "metadata": {},
   "outputs": [],
   "source": [
    "def cmplx_mod_arg(real, imagine):\n",
    "    \"\"\"Returns the absolut value and the argument of complex number\n",
    "    with given real and imaginary parts.\n",
    "\n",
    "    If the result is small enough to fit in an int, return an int.\n",
    "    Else return a long.\n",
    "\n",
    "    >>> cmplx_mod_arg(0, 4)\n",
    "    (4.0, 1.5707963267948966)\n",
    "    >>> cmplx_mod_arg(0, 10)\n",
    "    (10.0, 1.5707963267948966)\n",
    "    >>> cmplx_mod_arg(4, 0)\n",
    "    (4.0, 0.0)\n",
    "    >>> cmplx_mod_arg(0, -30)\n",
    "    (30.0, 4.71238898038469)\n",
    "    \"\"\"\n",
    "    cmplx_mod = (real**2 + imagine**2)**0.5\n",
    "    float_equality_threshold = 10e-9\n",
    "    if(real <= float_equality_threshold):\n",
    "        if (imagine > 0):\n",
    "            cmplx_arg = math.pi * (1/2)\n",
    "        else:\n",
    "            cmplx_arg = math.pi * (3/2)\n",
    "    else:\n",
    "        cmplx_arg = math.atan(imagine/real)    \n",
    "    return cmplx_mod, cmplx_arg"
   ]
  },
  {
   "cell_type": "code",
   "execution_count": 14,
   "metadata": {},
   "outputs": [
    {
     "data": {
      "text/plain": [
       "TestResults(failed=0, attempted=4)"
      ]
     },
     "execution_count": 14,
     "metadata": {},
     "output_type": "execute_result"
    }
   ],
   "source": [
    "doctest.testmod()"
   ]
  },
  {
   "cell_type": "markdown",
   "metadata": {},
   "source": [
    "###### 6. Реализуйте класс комплексных чисел с самым базовым функционалом."
   ]
  },
  {
   "cell_type": "code",
   "execution_count": 15,
   "metadata": {},
   "outputs": [],
   "source": [
    "class cmplx(object):\n",
    "    def __init__(self, real, imagine):\n",
    "        self.real = real\n",
    "        self.imagine = imagine\n",
    "        \n",
    "    def add(self, another_complex):\n",
    "        x = self.real + another_complex.real\n",
    "        y = self.imagine + another_complex.imagine\n",
    "        return cmplx(x, y)\n",
    "    \n",
    "    def subtract(self, another_complex):\n",
    "        x = self.real - another_complex.real\n",
    "        y = self.imagine -another_complex.imagine\n",
    "        return cmplx(x, y)\n",
    "    \n",
    "    def multiply(self, another_complex):\n",
    "        x = self.real * another_complex.real - self.imagine * another_complex.imagine\n",
    "        y = self.real * another_complex.imagine + self.imagine * another_complex.real\n",
    "        return cmplx(x, y)\n",
    "\n",
    "    def divide(self, another_complex):\n",
    "        denominator = another_complex.real**2 + another_complex.imagine**2\n",
    "        x = (self.real * another_complex.real + self.imagine * another_complex.imagine)/denominator\n",
    "        y = (another_complex.real * self.imagine - self.real * another_complex.imagine)/denominator\n",
    "        return cmplx(x, y)\n",
    "    \n",
    "    def __str__(self):\n",
    "        if(self.imagine < 0):\n",
    "            answer = \"{0} - {1}*i\".format(self.real, -self.imagine)\n",
    "        if(self.imagine > 0):\n",
    "            answer = \"{0} + {1}*i\".format(self.real, self.imagine)\n",
    "        if(self.imagine == -1):\n",
    "            answer = \"{0} - i\".format(self.real)\n",
    "        if(self.imagine == 1):\n",
    "            answer = \"{0} + i\".format(self.real)\n",
    "        if(self.imagine == 0):\n",
    "            answer = \"{0}\".format(self.real)\n",
    "        if(self.real == 0):\n",
    "            answer = \"{0}*i\".format(self.imagine)\n",
    "        if((self.real == 0) & (self.imagine == 0)):\n",
    "            answer = \"0\"    \n",
    "        return answer    "
   ]
  },
  {
   "cell_type": "code",
   "execution_count": 16,
   "metadata": {},
   "outputs": [],
   "source": [
    "a = cmplx(7,4)\n",
    "b = cmplx(3,2)"
   ]
  },
  {
   "cell_type": "code",
   "execution_count": 17,
   "metadata": {},
   "outputs": [
    {
     "name": "stdout",
     "output_type": "stream",
     "text": [
      "7 + 4*i\n"
     ]
    }
   ],
   "source": [
    "print(a)"
   ]
  },
  {
   "cell_type": "code",
   "execution_count": 18,
   "metadata": {},
   "outputs": [
    {
     "name": "stdout",
     "output_type": "stream",
     "text": [
      "10 + 6*i\n",
      "4 + 2*i\n",
      "13 + 26*i\n",
      "2.230769230769231 - 0.15384615384615385*i\n"
     ]
    }
   ],
   "source": [
    "print(a.add(b))\n",
    "print(a.subtract(b))\n",
    "print(a.multiply(b))\n",
    "print(a.divide(b))"
   ]
  },
  {
   "cell_type": "markdown",
   "metadata": {},
   "source": [
    "###### 7. Напишите кэширующего декоратора и декоратора, вычисляющего время работы функции. Попробуйте применить эти декораторы в разной последовательности к функции, вычисляющей числа Фибоначчи, сравнить и объяснить результаты. Объясните также, как работают использованные вами декораторы."
   ]
  },
  {
   "cell_type": "code",
   "execution_count": 19,
   "metadata": {},
   "outputs": [],
   "source": [
    "def timer(f):\n",
    "    import time\n",
    "    def tmp(*args, **kwargs):\n",
    "        t = time.time()\n",
    "        res = f(*args, **kwargs)\n",
    "        print(\"Время выполнения функции %s: %f\" % (str(f), (time.time()-t)))\n",
    "        return res\n",
    "\n",
    "    return tmp\n",
    "\n",
    "def memoized(f):\n",
    "    memory = {}\n",
    "    def wrapper(*args, **kwargs):\n",
    "        key = (tuple(args), hash(tuple(sorted(kwargs.items()))))\n",
    "        if not key in memory:\n",
    "            memory[key] = f(*args, **kwargs)\n",
    "        return memory[key]\n",
    "    \n",
    "    return wrapper"
   ]
  },
  {
   "cell_type": "code",
   "execution_count": 20,
   "metadata": {},
   "outputs": [],
   "source": [
    "@memoized\n",
    "@timer\n",
    "def fib(n):\n",
    "    if n == 0 or n == 1:\n",
    "        return 1\n",
    "    else:\n",
    "        return fib(n-1) + fib(n-2)"
   ]
  },
  {
   "cell_type": "code",
   "execution_count": 21,
   "metadata": {},
   "outputs": [
    {
     "name": "stdout",
     "output_type": "stream",
     "text": [
      "Время выполнения функции <function fib at 0x00000213BDC2E510>: 0.000000\n",
      "Время выполнения функции <function fib at 0x00000213BDC2E510>: 0.000000\n",
      "Время выполнения функции <function fib at 0x00000213BDC2E510>: 0.000000\n",
      "Время выполнения функции <function fib at 0x00000213BDC2E510>: 0.000000\n",
      "Время выполнения функции <function fib at 0x00000213BDC2E510>: 0.000000\n",
      "Время выполнения функции <function fib at 0x00000213BDC2E510>: 0.000000\n",
      "Время выполнения функции <function fib at 0x00000213BDC2E510>: 0.000000\n",
      "Время выполнения функции <function fib at 0x00000213BDC2E510>: 0.001002\n",
      "Время выполнения функции <function fib at 0x00000213BDC2E510>: 0.001002\n",
      "Время выполнения функции <function fib at 0x00000213BDC2E510>: 0.001002\n",
      "Время выполнения функции <function fib at 0x00000213BDC2E510>: 0.001002\n",
      "Время выполнения функции <function fib at 0x00000213BDC2E510>: 0.001002\n",
      "Время выполнения функции <function fib at 0x00000213BDC2E510>: 0.001002\n",
      "Время выполнения функции <function fib at 0x00000213BDC2E510>: 0.001002\n",
      "Время выполнения функции <function fib at 0x00000213BDC2E510>: 0.001002\n",
      "Время выполнения функции <function fib at 0x00000213BDC2E510>: 0.001002\n",
      "Время выполнения функции <function fib at 0x00000213BDC2E510>: 0.001002\n",
      "Время выполнения функции <function fib at 0x00000213BDC2E510>: 0.001506\n",
      "Время выполнения функции <function fib at 0x00000213BDC2E510>: 0.001506\n",
      "Время выполнения функции <function fib at 0x00000213BDC2E510>: 0.001506\n",
      "Время выполнения функции <function fib at 0x00000213BDC2E510>: 0.001506\n"
     ]
    },
    {
     "data": {
      "text/plain": [
       "10946"
      ]
     },
     "execution_count": 21,
     "metadata": {},
     "output_type": "execute_result"
    }
   ],
   "source": [
    "fib(20)"
   ]
  },
  {
   "cell_type": "code",
   "execution_count": 23,
   "metadata": {
    "scrolled": false
   },
   "outputs": [
    {
     "data": {
      "text/plain": [
       "10946"
      ]
     },
     "execution_count": 23,
     "metadata": {},
     "output_type": "execute_result"
    }
   ],
   "source": [
    "fib(20)"
   ]
  },
  {
   "cell_type": "markdown",
   "metadata": {},
   "source": [
    "При подсчете функции в первый раз вызываются функции для подсчета всех факториалов от 0 до 20. Декоратор подсчета времени вызывается каждый раз при вызове функции с новым для декоратора memorized аргументом.\n",
    "Считая факториал во второй раз, получим уже посчитанное значение, причем, так как обернутая в memorized функция не вызывается, декоратор подсчета времени не отрабатывает."
   ]
  },
  {
   "cell_type": "code",
   "execution_count": 24,
   "metadata": {},
   "outputs": [],
   "source": [
    "@timer\n",
    "@memoized\n",
    "def fib(n):\n",
    "    if n == 0 or n == 1:\n",
    "        return 1\n",
    "    else:\n",
    "        return fib(n-1) + fib(n-2)"
   ]
  },
  {
   "cell_type": "code",
   "execution_count": 25,
   "metadata": {},
   "outputs": [
    {
     "name": "stdout",
     "output_type": "stream",
     "text": [
      "Время выполнения функции <function memoized.<locals>.wrapper at 0x00000213BDC2E8C8>: 0.000000\n",
      "Время выполнения функции <function memoized.<locals>.wrapper at 0x00000213BDC2E8C8>: 0.001013\n",
      "Время выполнения функции <function memoized.<locals>.wrapper at 0x00000213BDC2E8C8>: 0.001013\n",
      "Время выполнения функции <function memoized.<locals>.wrapper at 0x00000213BDC2E8C8>: 0.000000\n",
      "Время выполнения функции <function memoized.<locals>.wrapper at 0x00000213BDC2E8C8>: 0.001013\n",
      "Время выполнения функции <function memoized.<locals>.wrapper at 0x00000213BDC2E8C8>: 0.000000\n",
      "Время выполнения функции <function memoized.<locals>.wrapper at 0x00000213BDC2E8C8>: 0.001013\n",
      "Время выполнения функции <function memoized.<locals>.wrapper at 0x00000213BDC2E8C8>: 0.000000\n",
      "Время выполнения функции <function memoized.<locals>.wrapper at 0x00000213BDC2E8C8>: 0.001013\n",
      "Время выполнения функции <function memoized.<locals>.wrapper at 0x00000213BDC2E8C8>: 0.000000\n",
      "Время выполнения функции <function memoized.<locals>.wrapper at 0x00000213BDC2E8C8>: 0.001013\n",
      "Время выполнения функции <function memoized.<locals>.wrapper at 0x00000213BDC2E8C8>: 0.000000\n",
      "Время выполнения функции <function memoized.<locals>.wrapper at 0x00000213BDC2E8C8>: 0.001013\n",
      "Время выполнения функции <function memoized.<locals>.wrapper at 0x00000213BDC2E8C8>: 0.000000\n",
      "Время выполнения функции <function memoized.<locals>.wrapper at 0x00000213BDC2E8C8>: 0.001013\n",
      "Время выполнения функции <function memoized.<locals>.wrapper at 0x00000213BDC2E8C8>: 0.000000\n",
      "Время выполнения функции <function memoized.<locals>.wrapper at 0x00000213BDC2E8C8>: 0.001013\n",
      "Время выполнения функции <function memoized.<locals>.wrapper at 0x00000213BDC2E8C8>: 0.000000\n",
      "Время выполнения функции <function memoized.<locals>.wrapper at 0x00000213BDC2E8C8>: 0.001013\n",
      "Время выполнения функции <function memoized.<locals>.wrapper at 0x00000213BDC2E8C8>: 0.000000\n",
      "Время выполнения функции <function memoized.<locals>.wrapper at 0x00000213BDC2E8C8>: 0.001013\n",
      "Время выполнения функции <function memoized.<locals>.wrapper at 0x00000213BDC2E8C8>: 0.000000\n",
      "Время выполнения функции <function memoized.<locals>.wrapper at 0x00000213BDC2E8C8>: 0.001013\n",
      "Время выполнения функции <function memoized.<locals>.wrapper at 0x00000213BDC2E8C8>: 0.000000\n",
      "Время выполнения функции <function memoized.<locals>.wrapper at 0x00000213BDC2E8C8>: 0.002011\n",
      "Время выполнения функции <function memoized.<locals>.wrapper at 0x00000213BDC2E8C8>: 0.000000\n",
      "Время выполнения функции <function memoized.<locals>.wrapper at 0x00000213BDC2E8C8>: 0.002011\n",
      "Время выполнения функции <function memoized.<locals>.wrapper at 0x00000213BDC2E8C8>: 0.000000\n",
      "Время выполнения функции <function memoized.<locals>.wrapper at 0x00000213BDC2E8C8>: 0.002011\n",
      "Время выполнения функции <function memoized.<locals>.wrapper at 0x00000213BDC2E8C8>: 0.000000\n",
      "Время выполнения функции <function memoized.<locals>.wrapper at 0x00000213BDC2E8C8>: 0.002011\n",
      "Время выполнения функции <function memoized.<locals>.wrapper at 0x00000213BDC2E8C8>: 0.000000\n",
      "Время выполнения функции <function memoized.<locals>.wrapper at 0x00000213BDC2E8C8>: 0.002011\n",
      "Время выполнения функции <function memoized.<locals>.wrapper at 0x00000213BDC2E8C8>: 0.000000\n",
      "Время выполнения функции <function memoized.<locals>.wrapper at 0x00000213BDC2E8C8>: 0.003007\n",
      "Время выполнения функции <function memoized.<locals>.wrapper at 0x00000213BDC2E8C8>: 0.000000\n",
      "Время выполнения функции <function memoized.<locals>.wrapper at 0x00000213BDC2E8C8>: 0.003007\n",
      "Время выполнения функции <function memoized.<locals>.wrapper at 0x00000213BDC2E8C8>: 0.000000\n",
      "Время выполнения функции <function memoized.<locals>.wrapper at 0x00000213BDC2E8C8>: 0.003007\n"
     ]
    },
    {
     "data": {
      "text/plain": [
       "10946"
      ]
     },
     "execution_count": 25,
     "metadata": {},
     "output_type": "execute_result"
    }
   ],
   "source": [
    "fib(20)"
   ]
  },
  {
   "cell_type": "code",
   "execution_count": 26,
   "metadata": {
    "scrolled": true
   },
   "outputs": [
    {
     "name": "stdout",
     "output_type": "stream",
     "text": [
      "Время выполнения функции <function memoized.<locals>.wrapper at 0x00000213BDC2E8C8>: 0.000000\n"
     ]
    },
    {
     "data": {
      "text/plain": [
       "10946"
      ]
     },
     "execution_count": 26,
     "metadata": {},
     "output_type": "execute_result"
    }
   ],
   "source": [
    "fib(20)"
   ]
  },
  {
   "cell_type": "markdown",
   "metadata": {},
   "source": [
    "Количество напечатанных строчек со временем работы увеличилось, т. к. теперь обернутый в memorized fib(n) может вызваться максимум 2 раза, и время будет считаться для двух вызовов"
   ]
  },
  {
   "cell_type": "markdown",
   "metadata": {},
   "source": [
    "###### 8. Выясните, чем отличается задание поля x через \"self.x =\" от объявления метода с декоратором property. "
   ]
  },
  {
   "cell_type": "markdown",
   "metadata": {},
   "source": [
    "В первом случае создается поле с доступом на чтение и изменение, а во втором случае только на чтение. Изменение артрибута, заданного через $@property$ возможно только косвенно, через изменение параметров класса, от которых зависит $@property$"
   ]
  },
  {
   "cell_type": "markdown",
   "metadata": {},
   "source": [
    "###### 9. Напишите setter и getter для полей класса комплексного числа"
   ]
  },
  {
   "cell_type": "code",
   "execution_count": 27,
   "metadata": {},
   "outputs": [],
   "source": [
    "class cmplx(object):\n",
    "    def __init__(self, real, imagine):\n",
    "        self.real = real\n",
    "        self.imagine = imagine\n",
    "        \n",
    "    def add(self, another_complex):\n",
    "        x = self.real + another_complex.real\n",
    "        y = self.imagine + another_complex.imagine\n",
    "        return cmplx(x, y)\n",
    "    \n",
    "    def subtract(self, another_complex):\n",
    "        x = self.real - another_complex.real\n",
    "        y = self.imagine -another_complex.imagine\n",
    "        return cmplx(x, y)\n",
    "    \n",
    "    def multiply(self, another_complex):\n",
    "        x = self.real * another_complex.real - self.imagine * another_complex.imagine\n",
    "        y = self.real * another_complex.imagine + self.imagine * another_complex.real\n",
    "        return cmplx(x, y)\n",
    "\n",
    "    def divide(self, another_complex):\n",
    "        denominator = another_complex.real**2 + another_complex.imagine**2\n",
    "        x = (self.real * another_complex.real + self.imagine * another_complex.imagine)/denominator\n",
    "        y = (another_complex.real * self.imagine - self.real * another_complex.imagine)/denominator\n",
    "        return cmplx(x, y)\n",
    "    \n",
    "    @property\n",
    "    def real(self):\n",
    "        return self.__real\n",
    "    \n",
    "    @property\n",
    "    def imagine(self):\n",
    "        return self.__imagine\n",
    "    \n",
    "    @real.setter\n",
    "    def real(self, value):\n",
    "        if isinstance(value, int):\n",
    "            self.__real = float(value)\n",
    "        elif isinstance(value, float):\n",
    "            self.__real = int(value)\n",
    "        else:\n",
    "            raise TypeError(\"wrong type for complex number field\") \n",
    "    \n",
    "    @imagine.setter\n",
    "    def imagine(self, value):\n",
    "        if isinstance(value, int):\n",
    "            self.__imagine = float(value)\n",
    "        elif isinstance(value, float):\n",
    "            self.__imagine = int(value)\n",
    "        else:\n",
    "            raise TypeError(\"wrong type for complex number field\") \n",
    "    \n",
    "    def __str__(self):\n",
    "        if(self.imagine < 0):\n",
    "            answer = \"{0} - {1}*i\".format(self.real, -self.imagine)\n",
    "        if(self.imagine > 0):\n",
    "            answer = \"{0} + {1}*i\".format(self.real, self.imagine)\n",
    "        if(self.imagine == -1):\n",
    "            answer = \"{0} - i\".format(self.real)\n",
    "        if(self.imagine == 1):\n",
    "            answer = \"{0} + i\".format(self.real)\n",
    "        if(self.imagine == 0):\n",
    "            answer = \"{0}\".format(self.real)\n",
    "        if(self.real == 0):\n",
    "            answer = \"{0}*i\".format(self.imagine)\n",
    "        if((self.real == 0) & (self.imagine == 0)):\n",
    "            answer = \"0\"    \n",
    "        return answer    "
   ]
  },
  {
   "cell_type": "markdown",
   "metadata": {},
   "source": [
    "# 2 urllib.request + BeautifulSoup"
   ]
  },
  {
   "cell_type": "markdown",
   "metadata": {},
   "source": [
    "###### Скачайте $html$-код страницы с новостью с любого новостного сайта и, распарсив его с помощью библиотеки $Beautiful$ $Soup$, получите текст статьи (без $html$-тегов или вкраплений $java-script$) "
   ]
  },
  {
   "cell_type": "code",
   "execution_count": 28,
   "metadata": {},
   "outputs": [],
   "source": [
    "from urllib.request import urlopen\n",
    "from bs4 import BeautifulSoup"
   ]
  },
  {
   "cell_type": "code",
   "execution_count": 29,
   "metadata": {},
   "outputs": [],
   "source": [
    "URL = \"https://www.bbc.com/news/entertainment-arts-46481907\"\n",
    "page = urlopen(URL)\n",
    "soup = BeautifulSoup(page, \"html.parser\")"
   ]
  },
  {
   "cell_type": "code",
   "execution_count": 30,
   "metadata": {
    "collapsed": true
   },
   "outputs": [
    {
     "data": {
      "text/plain": [
       "[<p style=\"position: absolute; top: -999em\"><img alt=\"\" height=\"1\" src=\"https://sa.bbc.co.uk/bbc/bbc/s?name=news.entertainment_and_arts.story.46481907.page&amp;ml_name=webmodule&amp;ml_version=-1&amp;blq_e=orbit&amp;blq_r=orbit&amp;blq_s=orbit&amp;blq_v=default&amp;language=en&amp;pal_route=asset&amp;language=en-GB&amp;pal_webapp=tabloid&amp;prod_name=news&amp;app_name=news&amp;cps_asset_id=46481907&amp;page_type=Story§ion=%2Fnews%2Fentertainment_and_arts&amp;first_pub=2018-12-07T11%3A46%3A27%2B00%3A00&amp;last_editorial_update=2018-12-07T18%3A02%3A45%2B00%3A00&amp;curie=e7b86d27-1e79-0841-b866-f9bb237bf439&amp;title=XXXTentacion%27s+posthumous+album+Skins+is+released&amp;has_video=&amp;topic_names=Kanye+West%21XXXTentacion+death%21Music&amp;topic_ids=c256n7nw2g4t%21cpz7wxdzkr2t%21cz4pr2gd872t&amp;for_nation=ru&amp;app_version=1.268.0&amp;app_type=responsive&amp;bbc_site=news&amp;blq_js_enabled=0\" width=\"1\"/></p>,\n",
       " <p aria-hidden=\"true\" class=\"twite__title\">Share this with</p>,\n",
       " <p aria-hidden=\"true\" class=\"twite__channel-text\">Email</p>,\n",
       " <p aria-hidden=\"true\" class=\"twite__channel-text\">Facebook</p>,\n",
       " <p aria-hidden=\"true\" class=\"twite__channel-text\">Messenger</p>,\n",
       " <p aria-hidden=\"true\" class=\"twite__channel-text\">Messenger</p>,\n",
       " <p aria-hidden=\"true\" class=\"twite__channel-text\">Twitter</p>,\n",
       " <p aria-hidden=\"true\" class=\"twite__channel-text\">Pinterest</p>,\n",
       " <p aria-hidden=\"true\" class=\"twite__channel-text\">WhatsApp</p>,\n",
       " <p aria-hidden=\"true\" class=\"twite__channel-text\">LinkedIn</p>,\n",
       " <p class=\"twite__copy-text\">Copy this link</p>,\n",
       " <p aria-hidden=\"true\" class=\"twite__new-window\">These are external links and will open in a new window</p>,\n",
       " <p class=\"story-body__introduction\">A posthumous XXXTentacion album has been released, almost six months after the controversial rapper was shot dead.</p>,\n",
       " <p>Skins features 10 tracks - including a single, One Minute, featuring Kanye West - but is only 19 minutes long.</p>,\n",
       " <p>XXXTentacion was shot and killed in Florida in June at the age of 20.</p>,\n",
       " <p>Skins becomes the rapper's third studio album and follows ?, which debuted at number one on the US Billboard 200 in March and has reached platinum status since his death.</p>,\n",
       " <p>XXXTentacion's personal life was plagued by allegations of domestic violence. He was facing 15 felony charges at the time of his death, including aggravated battery of a pregnant woman, domestic battery by strangulation and witness tampering.</p>,\n",
       " <p>In October, <a class=\"story-body__link\" href=\"https://www.bbc.co.uk/news/entertainment-arts-45971796\">audio emerged</a> of the rapper apparently admitting to assaulting his ex-girlfriend and stabbing nine people.</p>,\n",
       " <p>Despite its title, the Kanye West track is the longest on the new album, clocking in at three minutes, 17 seconds.</p>,\n",
       " <p>West opens the song saying: \"So much hate at the top, it's a lonely place.\"</p>,\n",
       " <p>And he later says: \"Now your name is tainted by the claims they paintin'/The defendant is guilty, no one blames the plaintiff.\"</p>,\n",
       " <p><a class=\"story-body__link-external\" href=\"https://www.theguardian.com/music/2018/dec/07/xxxtentacion-skins-review-posthumous-album-kanye-west\">In his review</a>, The Guardian's critic Alexis Petridis wrote: \"It's difficult to know what to say about this, other than to note that Kanye West has once again managed to make an event entirely about Kanye West, albeit not through a dazzling display of talent, but by his increasingly wearying willingness to say something so asinine, ignorant and toxic that you can scarcely believe you're hearing it.\"</p>,\n",
       " <p>He added: \"The rest of Skins passes by in a bitty blur that's alternately fascinating and confusing.\"</p>,\n",
       " <p><a class=\"story-body__link-external\" href=\"https://www.independent.co.uk/arts-entertainment/music/reviews/xxxtentacion-skin-album-review-tracklist-kanye-west-feature-lyrics-death-release-a8672776.html\">The Independent's Christopher Hooton decided</a>: \"Skins doesn't turn out to be the album where it all finally clicks into place and he creates the masterpiece some believed he was capable of.\"</p>,\n",
       " <p>The controversy hasn't affected the support from XXXTentacion's passionate fanbase, who have been sharing their thoughts about the new album on Twitter.</p>,\n",
       " <p>Skins also includes the previously released single Bad.</p>,\n",
       " <p>Fans also praised the second track Guardian Angel, which features a sample of the 2017 song Jocelyn Flores played in reverse. </p>,\n",
       " <p>The song is dedicated to Jocelyn Amparo Flores, a 16-year-old fan who went to Florida to meet the rapper and committed suicide during the trip. </p>,\n",
       " <p><i>Follow us on </i><a class=\"story-body__link-external\" href=\"https://www.facebook.com/BBCEntsNews/\">Facebook</a><i>, on Twitter </i><a class=\"story-body__link-external\" href=\"https://twitter.com/BBCNewsEnts\">@BBCNewsEnts</a><i>, or on Instagram at </i><a class=\"story-body__link-external\" href=\"https://www.instagram.com/BBCNewsEnts/\">bbcnewsents</a><i>. If you have a story suggestion email </i>entertainment.news@bbc.co.uk.</p>,\n",
       " <p class=\"top-stories-promo-story__summary top-stories-promo-story__summary--none\">Theresa May insists she can get \"further clarification\" from the EU on the divisive Brexit deal.</p>,\n",
       " <p class=\"heron__item-summary\">Have you been getting these songs wrong?</p>,\n",
       " <p class=\"heron__item-summary\">What happens to your body in extreme heat?</p>]"
      ]
     },
     "execution_count": 30,
     "metadata": {},
     "output_type": "execute_result"
    }
   ],
   "source": [
    "soup('p')"
   ]
  },
  {
   "cell_type": "code",
   "execution_count": 31,
   "metadata": {},
   "outputs": [
    {
     "name": "stdout",
     "output_type": "stream",
     "text": [
      "XXXTentacion's posthumous album Skins is released - BBC News\n",
      "\n",
      "A posthumous XXXTentacion album has been released, almost six months after the controversial rapper was shot dead.\n",
      "\n",
      "Skins features 10 tracks - including a single, One Minute, featuring Kanye West - but is only 19 minutes long.\n",
      "\n",
      "XXXTentacion was shot and killed in Florida in June at the age of 20.\n",
      "\n",
      "Skins becomes the rapper's third studio album and follows ?, which debuted at number one on the US Billboard 200 in March and has reached platinum status since his death.\n",
      "\n",
      "XXXTentacion's personal life was plagued by allegations of domestic violence. He was facing 15 felony charges at the time of his death, including aggravated battery of a pregnant woman, domestic battery by strangulation and witness tampering.\n",
      "\n",
      "In October, audio emerged of the rapper apparently admitting to assaulting his ex-girlfriend and stabbing nine people.\n",
      "\n",
      "Despite its title, the Kanye West track is the longest on the new album, clocking in at three minutes, 17 seconds.\n",
      "\n",
      "West opens the song saying: \"So much hate at the top, it's a lonely place.\"\n",
      "\n",
      "And he later says: \"Now your name is tainted by the claims they paintin'/The defendant is guilty, no one blames the plaintiff.\"\n",
      "\n",
      "In his review, The Guardian's critic Alexis Petridis wrote: \"It's difficult to know what to say about this, other than to note that Kanye West has once again managed to make an event entirely about Kanye West, albeit not through a dazzling display of talent, but by his increasingly wearying willingness to say something so asinine, ignorant and toxic that you can scarcely believe you're hearing it.\"\n",
      "\n",
      "He added: \"The rest of Skins passes by in a bitty blur that's alternately fascinating and confusing.\"\n",
      "\n",
      "The Independent's Christopher Hooton decided: \"Skins doesn't turn out to be the album where it all finally clicks into place and he creates the masterpiece some believed he was capable of.\"\n",
      "\n",
      "The controversy hasn't affected the support from XXXTentacion's passionate fanbase, who have been sharing their thoughts about the new album on Twitter.\n",
      "\n",
      "Skins also includes the previously released single Bad.\n",
      "\n",
      "Fans also praised the second track Guardian Angel, which features a sample of the 2017 song Jocelyn Flores played in reverse.\n",
      "\n",
      "The song is dedicated to Jocelyn Amparo Flores, a 16-year-old fan who went to Florida to meet the rapper and committed suicide during the trip.\n",
      "\n",
      "Follow us on Facebook, on Twitter @BBCNewsEnts, or on Instagram at bbcnewsents. If you have a story suggestion email entertainment.news@bbc.co.uk.\n",
      "\n",
      "\n"
     ]
    }
   ],
   "source": [
    "title = soup.html.head.title.string\n",
    "sub_title = soup.find(\"p\", attrs={\"class\": \"story-body__introduction\"})\n",
    "article_body = soup.findAll(\"p\", attrs={\"class\": None, \"style\": None})\n",
    "\n",
    "article = title + \"\\n\\n\"\n",
    "article += sub_title.text.strip() + \"\\n\\n\" \n",
    "\n",
    "for paragraph in article_body:\n",
    "    article += (paragraph.text.strip() + \"\\n\\n\")\n",
    "       \n",
    "print(article)"
   ]
  },
  {
   "cell_type": "markdown",
   "metadata": {},
   "source": [
    "# 3 NumPy (done)"
   ]
  },
  {
   "cell_type": "markdown",
   "metadata": {},
   "source": [
    "###### 1. Создайте $numpy.ndarray$ размерностью $3*4*2$ и продемонстрируйте разные способы обращения по индексам из документации $NumPy$."
   ]
  },
  {
   "cell_type": "code",
   "execution_count": 32,
   "metadata": {},
   "outputs": [],
   "source": [
    "import numpy as np"
   ]
  },
  {
   "cell_type": "code",
   "execution_count": 47,
   "metadata": {},
   "outputs": [
    {
     "data": {
      "text/plain": [
       "array([[[6, 8],\n",
       "        [5, 3],\n",
       "        [6, 5],\n",
       "        [7, 2]],\n",
       "\n",
       "       [[5, 3],\n",
       "        [7, 8],\n",
       "        [0, 0],\n",
       "        [3, 6]],\n",
       "\n",
       "       [[1, 0],\n",
       "        [7, 1],\n",
       "        [4, 4],\n",
       "        [5, 3]]])"
      ]
     },
     "execution_count": 47,
     "metadata": {},
     "output_type": "execute_result"
    }
   ],
   "source": [
    "a = np.random.randint(9, size=(3, 4, 2))\n",
    "a"
   ]
  },
  {
   "cell_type": "code",
   "execution_count": 48,
   "metadata": {},
   "outputs": [
    {
     "name": "stdout",
     "output_type": "stream",
     "text": [
      "0\n",
      "8\n"
     ]
    }
   ],
   "source": [
    "print(a.item(12))\n",
    "print(a.item((1,1,1)))"
   ]
  },
  {
   "cell_type": "code",
   "execution_count": 49,
   "metadata": {},
   "outputs": [
    {
     "data": {
      "text/plain": [
       "array([6, 8, 6])"
      ]
     },
     "execution_count": 49,
     "metadata": {},
     "output_type": "execute_result"
    }
   ],
   "source": [
    "np.take(a, [0, 1, 4])"
   ]
  },
  {
   "cell_type": "code",
   "execution_count": 50,
   "metadata": {},
   "outputs": [
    {
     "data": {
      "text/plain": [
       "0"
      ]
     },
     "execution_count": 50,
     "metadata": {},
     "output_type": "execute_result"
    }
   ],
   "source": [
    "a[1][2][-2]"
   ]
  },
  {
   "cell_type": "code",
   "execution_count": 51,
   "metadata": {},
   "outputs": [
    {
     "data": {
      "text/plain": [
       "array([2, 6, 3])"
      ]
     },
     "execution_count": 51,
     "metadata": {},
     "output_type": "execute_result"
    }
   ],
   "source": [
    "a[:,3,1]"
   ]
  },
  {
   "cell_type": "code",
   "execution_count": 52,
   "metadata": {},
   "outputs": [
    {
     "data": {
      "text/plain": [
       "array([7, 8])"
      ]
     },
     "execution_count": 52,
     "metadata": {},
     "output_type": "execute_result"
    }
   ],
   "source": [
    "a[1,1]"
   ]
  },
  {
   "cell_type": "code",
   "execution_count": 53,
   "metadata": {},
   "outputs": [
    {
     "data": {
      "text/plain": [
       "array([5, 3])"
      ]
     },
     "execution_count": 53,
     "metadata": {},
     "output_type": "execute_result"
    }
   ],
   "source": [
    "a[2][3]"
   ]
  },
  {
   "cell_type": "code",
   "execution_count": 54,
   "metadata": {},
   "outputs": [
    {
     "data": {
      "text/plain": [
       "array([6, 8])"
      ]
     },
     "execution_count": 54,
     "metadata": {},
     "output_type": "execute_result"
    }
   ],
   "source": [
    "a[(0, 1), (0, 1), (0, 1)] "
   ]
  },
  {
   "cell_type": "code",
   "execution_count": 55,
   "metadata": {},
   "outputs": [
    {
     "data": {
      "text/plain": [
       "array([[[6, 8],\n",
       "        [5, 3],\n",
       "        [6, 5],\n",
       "        [7, 2]],\n",
       "\n",
       "       [[5, 3],\n",
       "        [7, 8],\n",
       "        [0, 0],\n",
       "        [3, 6]]])"
      ]
     },
     "execution_count": 55,
     "metadata": {},
     "output_type": "execute_result"
    }
   ],
   "source": [
    "a[0:2,::]"
   ]
  },
  {
   "cell_type": "code",
   "execution_count": 56,
   "metadata": {},
   "outputs": [
    {
     "data": {
      "text/plain": [
       "array([7, 1])"
      ]
     },
     "execution_count": 56,
     "metadata": {},
     "output_type": "execute_result"
    }
   ],
   "source": [
    "a[(2,1)]"
   ]
  },
  {
   "cell_type": "code",
   "execution_count": 57,
   "metadata": {},
   "outputs": [
    {
     "data": {
      "text/plain": [
       "array([[6, 5],\n",
       "       [0, 0],\n",
       "       [4, 4]])"
      ]
     },
     "execution_count": 57,
     "metadata": {},
     "output_type": "execute_result"
    }
   ],
   "source": [
    "a[:,2]"
   ]
  },
  {
   "cell_type": "code",
   "execution_count": 58,
   "metadata": {},
   "outputs": [
    {
     "data": {
      "text/plain": [
       "array([[[6, 8],\n",
       "        [5, 3],\n",
       "        [6, 5],\n",
       "        [7, 2]],\n",
       "\n",
       "       [[5, 3],\n",
       "        [7, 8],\n",
       "        [0, 0],\n",
       "        [3, 6]]])"
      ]
     },
     "execution_count": 58,
     "metadata": {},
     "output_type": "execute_result"
    }
   ],
   "source": [
    "a[:2]"
   ]
  },
  {
   "cell_type": "code",
   "execution_count": 59,
   "metadata": {},
   "outputs": [
    {
     "data": {
      "text/plain": [
       "array([[5, 3],\n",
       "       [7, 8],\n",
       "       [0, 0],\n",
       "       [3, 6]])"
      ]
     },
     "execution_count": 59,
     "metadata": {},
     "output_type": "execute_result"
    }
   ],
   "source": [
    "a[1, ...]"
   ]
  },
  {
   "cell_type": "code",
   "execution_count": 60,
   "metadata": {},
   "outputs": [
    {
     "data": {
      "text/plain": [
       "(array([[6, 8],\n",
       "        [5, 3],\n",
       "        [6, 5],\n",
       "        [7, 2]]), array([[5, 3],\n",
       "        [7, 8],\n",
       "        [0, 0],\n",
       "        [3, 6]]), array([[1, 0],\n",
       "        [7, 1],\n",
       "        [4, 4],\n",
       "        [5, 3]]), array([[1, 0],\n",
       "        [7, 1],\n",
       "        [4, 4],\n",
       "        [5, 3]]))"
      ]
     },
     "execution_count": 60,
     "metadata": {},
     "output_type": "execute_result"
    }
   ],
   "source": [
    "a[0], a[1], a[2], a[-1]"
   ]
  },
  {
   "cell_type": "code",
   "execution_count": 61,
   "metadata": {},
   "outputs": [
    {
     "data": {
      "text/plain": [
       "array([[[6, 8],\n",
       "        [5, 3],\n",
       "        [6, 5],\n",
       "        [7, 2]],\n",
       "\n",
       "       [[5, 3],\n",
       "        [7, 8],\n",
       "        [0, 0],\n",
       "        [3, 6]],\n",
       "\n",
       "       [[1, 0],\n",
       "        [7, 1],\n",
       "        [4, 4],\n",
       "        [5, 3]]])"
      ]
     },
     "execution_count": 61,
     "metadata": {},
     "output_type": "execute_result"
    }
   ],
   "source": [
    "a[0:3]"
   ]
  },
  {
   "cell_type": "code",
   "execution_count": 62,
   "metadata": {},
   "outputs": [
    {
     "data": {
      "text/plain": [
       "array([[[6, 8],\n",
       "        [5, 3],\n",
       "        [6, 5],\n",
       "        [7, 2]],\n",
       "\n",
       "       [[1, 0],\n",
       "        [7, 1],\n",
       "        [4, 4],\n",
       "        [5, 3]],\n",
       "\n",
       "       [[1, 0],\n",
       "        [7, 1],\n",
       "        [4, 4],\n",
       "        [5, 3]]])"
      ]
     },
     "execution_count": 62,
     "metadata": {},
     "output_type": "execute_result"
    }
   ],
   "source": [
    "a[[0, 2, -1]]"
   ]
  },
  {
   "cell_type": "markdown",
   "metadata": {},
   "source": [
    "###### 2. Попробуйте сравнить по производительности $numpy.array$ и $list$, выполняя какую-то стандартную операцию с каждым из типов много раз."
   ]
  },
  {
   "cell_type": "code",
   "execution_count": 63,
   "metadata": {},
   "outputs": [],
   "source": [
    "a = list(range(10000))\n",
    "b = list(range(10000))"
   ]
  },
  {
   "cell_type": "code",
   "execution_count": 64,
   "metadata": {},
   "outputs": [
    {
     "name": "stdout",
     "output_type": "stream",
     "text": [
      "705 µs ± 12.7 µs per loop (mean ± std. dev. of 7 runs, 1000 loops each)\n"
     ]
    }
   ],
   "source": [
    "%%timeit\n",
    "c = [x*y for x, y in zip(a, b)]"
   ]
  },
  {
   "cell_type": "code",
   "execution_count": 65,
   "metadata": {},
   "outputs": [],
   "source": [
    "a = np.array(a)\n",
    "b = np.array(b)"
   ]
  },
  {
   "cell_type": "code",
   "execution_count": 66,
   "metadata": {},
   "outputs": [
    {
     "name": "stdout",
     "output_type": "stream",
     "text": [
      "10.3 µs ± 124 ns per loop (mean ± std. dev. of 7 runs, 100000 loops each)\n"
     ]
    }
   ],
   "source": [
    "%%timeit\n",
    "c = a * b"
   ]
  },
  {
   "cell_type": "code",
   "execution_count": 67,
   "metadata": {},
   "outputs": [
    {
     "name": "stdout",
     "output_type": "stream",
     "text": [
      "1.67 ms ± 31.3 µs per loop (mean ± std. dev. of 7 runs, 1000 loops each)\n"
     ]
    }
   ],
   "source": [
    "%%timeit\n",
    "c = [x*y for x, y in zip(a, b)]"
   ]
  },
  {
   "cell_type": "markdown",
   "metadata": {},
   "source": [
    "###### 3. Изучите $numpy.linspace()$, напишите свою реализацию аналогичной функции с помощью $list$ $comprehension$, дающую тот же результат, только в виде $list$. Сравните по производительности два варианта на достаточно больших массивах."
   ]
  },
  {
   "cell_type": "code",
   "execution_count": 68,
   "metadata": {},
   "outputs": [],
   "source": [
    "def linspace(start, stop, num = 50):\n",
    "    step = (stop - start)/(num - 1)\n",
    "    return [start + i*step for i in range(num)]"
   ]
  },
  {
   "cell_type": "code",
   "execution_count": 69,
   "metadata": {
    "scrolled": true
   },
   "outputs": [
    {
     "name": "stdout",
     "output_type": "stream",
     "text": [
      "147 ms ± 2.4 ms per loop (mean ± std. dev. of 7 runs, 10 loops each)\n"
     ]
    }
   ],
   "source": [
    "%%timeit\n",
    "a = linspace(0, 1, 1000000)"
   ]
  },
  {
   "cell_type": "code",
   "execution_count": 70,
   "metadata": {},
   "outputs": [
    {
     "name": "stdout",
     "output_type": "stream",
     "text": [
      "5.06 ms ± 138 µs per loop (mean ± std. dev. of 7 runs, 100 loops each)\n"
     ]
    }
   ],
   "source": [
    "%%timeit\n",
    "b = np.linspace(0, 1, 1000000)"
   ]
  },
  {
   "cell_type": "markdown",
   "metadata": {},
   "source": [
    "# 4 Matplotlib (done)"
   ]
  },
  {
   "cell_type": "markdown",
   "metadata": {},
   "source": [
    "###### 1. Что делает в IPython Notebook команда \\%$matplotlib$ $inline$?"
   ]
  },
  {
   "cell_type": "markdown",
   "metadata": {},
   "source": [
    "С помощью этого бэкэнда вывод команд построения отображается в виде строки внутри интерфейсов, таких как блокнот Jupyter, непосредственно под кодовым элементом, который его создал. Полученные графики также будут сохранены в документе ноутбука."
   ]
  },
  {
   "cell_type": "markdown",
   "metadata": {},
   "source": [
    "###### 2. Используя $numpy.linspace$ и генераторы, постройте в $matplotlib$ график какой-нибудь элементарной функции."
   ]
  },
  {
   "cell_type": "code",
   "execution_count": 71,
   "metadata": {},
   "outputs": [],
   "source": [
    "import matplotlib.pyplot as plt\n",
    "%matplotlib inline"
   ]
  },
  {
   "cell_type": "code",
   "execution_count": 72,
   "metadata": {},
   "outputs": [
    {
     "data": {
      "image/png": "[encoded data removed]",
      "text/plain": [
       "<Figure size 432x288 with 1 Axes>"
      ]
     },
     "metadata": {
      "needs_background": "light"
     },
     "output_type": "display_data"
    }
   ],
   "source": [
    "x = np.linspace(-10, 10, 201)\n",
    "y = [0.2*j**2 for j in x]\n",
    "plt.plot(x,y)\n",
    "plt.show()"
   ]
  },
  {
   "cell_type": "markdown",
   "metadata": {},
   "source": [
    "###### 3. Постройте графики еще нескольких элементарных функций (на том же рисунке) и сделайте к ним подписи с формулами. Добавьте подписи к осям координат и название графика. Сохраните изображение в файл одной строчкой на Python."
   ]
  },
  {
   "cell_type": "code",
   "execution_count": 73,
   "metadata": {},
   "outputs": [
    {
     "data": {
      "image/png": "[encoded data removed]",
      "text/plain": [
       "<Figure size 432x288 with 1 Axes>"
      ]
     },
     "metadata": {
      "needs_background": "light"
     },
     "output_type": "display_data"
    }
   ],
   "source": [
    "x = np.linspace(-5, 5, 101)\n",
    "a = [0.2*j**2 for j in x]\n",
    "b = [1.6**j for j in x]\n",
    "c = np.sin(x)\n",
    "plt.title('Название графика')\n",
    "plt.xlabel('Ось абсцисс')\n",
    "plt.ylabel('Ось ординат')\n",
    "plt.plot(x,a, label = '$0.2*j^2$')\n",
    "plt.plot(x,b, label = '$1.6^j$')\n",
    "plt.plot(x,c, label = '$y = sin(x)$')\n",
    "plt.legend(loc=2)\n",
    "#plt.show()\n",
    "plt.savefig('plot.png')"
   ]
  },
  {
   "cell_type": "markdown",
   "metadata": {},
   "source": [
    "###### 4. Постройте на одном изображении $4$ системы координат, на верхних двух квадратичную и кубическую параболы, на нижних экспоненту и логарифм."
   ]
  },
  {
   "cell_type": "code",
   "execution_count": 74,
   "metadata": {},
   "outputs": [
    {
     "data": {
      "image/png": "[encoded data removed]",
      "text/plain": [
       "<Figure size 1152x720 with 4 Axes>"
      ]
     },
     "metadata": {
      "needs_background": "light"
     },
     "output_type": "display_data"
    }
   ],
   "source": [
    "plt.figure(figsize=(16,10))\n",
    "\n",
    "X = np.linspace(0.001, 4, 500)\n",
    "\n",
    "plt.subplot(221)\n",
    "plt.plot(X, [x**2 for x in X])\n",
    "plt.title('Квадратичная парабола')\n",
    "\n",
    "plt.subplot(222)\n",
    "plt.plot(X, [x**3 for x in X])\n",
    "plt.title('Кубическая парабола')\n",
    "\n",
    "plt.subplot(223)\n",
    "plt.plot(X, [np.exp(x) for x in X])\n",
    "plt.title('Экспонента')\n",
    "\n",
    "plt.subplot(224)\n",
    "plt.plot(X, [math.log10(x) for x in X])\n",
    "plt.title('Логарифм')\n",
    "\n",
    "plt.show()"
   ]
  },
  {
   "cell_type": "markdown",
   "metadata": {},
   "source": [
    "###### 5. Изобразите $heatmap$ для функции $f(x,y) = 3xy + x - 2y$ в области $[0; 5]^2$."
   ]
  },
  {
   "cell_type": "code",
   "execution_count": 75,
   "metadata": {},
   "outputs": [],
   "source": [
    "import seaborn as sns"
   ]
  },
  {
   "cell_type": "code",
   "execution_count": 76,
   "metadata": {},
   "outputs": [],
   "source": [
    "f = np.zeros((6, 6))\n",
    "for i in range(6):\n",
    "    for j in range(6):\n",
    "        f[j][i] = 3.*i*j + i - 2*j "
   ]
  },
  {
   "cell_type": "code",
   "execution_count": 77,
   "metadata": {},
   "outputs": [
    {
     "data": {
      "image/png": "[encoded data removed]",
      "text/plain": [
       "<Figure size 432x288 with 2 Axes>"
      ]
     },
     "metadata": {
      "needs_background": "light"
     },
     "output_type": "display_data"
    }
   ],
   "source": [
    "ax = sns.heatmap(f, annot = True, cmap=\"YlGnBu\")"
   ]
  },
  {
   "cell_type": "markdown",
   "metadata": {},
   "source": [
    "###### 6. Постройте трехмерный график той же функции в той же области."
   ]
  },
  {
   "cell_type": "code",
   "execution_count": 78,
   "metadata": {},
   "outputs": [],
   "source": [
    "from mpl_toolkits import mplot3d"
   ]
  },
  {
   "cell_type": "code",
   "execution_count": 79,
   "metadata": {},
   "outputs": [
    {
     "data": {
      "image/png": "[encoded data removed]",
      "text/plain": [
       "<Figure size 432x288 with 1 Axes>"
      ]
     },
     "metadata": {
      "needs_background": "light"
     },
     "output_type": "display_data"
    }
   ],
   "source": [
    "fig = plt.figure()\n",
    "ax = plt.axes(projection='3d')"
   ]
  },
  {
   "cell_type": "code",
   "execution_count": 80,
   "metadata": {},
   "outputs": [
    {
     "data": {
      "text/plain": [
       "Text(0.5,0,'z')"
      ]
     },
     "execution_count": 80,
     "metadata": {},
     "output_type": "execute_result"
    },
    {
     "data": {
      "image/png": "[encoded data removed]",
      "text/plain": [
       "<Figure size 432x288 with 1 Axes>"
      ]
     },
     "metadata": {
      "needs_background": "light"
     },
     "output_type": "display_data"
    }
   ],
   "source": [
    "def f(x, y):\n",
    "    return 3*x*y + x - 2*y\n",
    "\n",
    "x = np.linspace(0, 5, 51)\n",
    "y = np.linspace(0, 5, 51)\n",
    "\n",
    "X, Y = np.meshgrid(x, y)\n",
    "Z = f(X, Y)\n",
    "fig = plt.figure()\n",
    "ax = plt.axes(projection='3d')\n",
    "ax.contour3D(X, Y, Z, 500, cmap='YlGnBu')\n",
    "ax.set_xlabel('x')\n",
    "ax.set_ylabel('y')\n",
    "ax.set_zlabel('z')"
   ]
  },
  {
   "cell_type": "code",
   "execution_count": 81,
   "metadata": {},
   "outputs": [
    {
     "data": {
      "image/png": "[encoded data removed]",
      "text/plain": [
       "<Figure size 432x288 with 1 Axes>"
      ]
     },
     "execution_count": 81,
     "metadata": {},
     "output_type": "execute_result"
    }
   ],
   "source": [
    "ax.view_init(15, 155)\n",
    "fig"
   ]
  },
  {
   "cell_type": "markdown",
   "metadata": {},
   "source": [
    "# 5 Всё вместе + SciPy (done)"
   ]
  },
  {
   "cell_type": "markdown",
   "metadata": {},
   "source": [
    "######  Сгенерируйте $500$ точек, удовлетворяющих зависимости $y = x^3 + 2x^2 -3x+2$, затем добавьте  к координатам $y$ нормальный шум. Восстановите исходную зависимость, считая известной степень полинома. У восстановленной зависимости найдите экстремумы. Покажите на графике исходные точки, восстановленную зависимость и  найденные экстремумы."
   ]
  },
  {
   "cell_type": "code",
   "execution_count": 82,
   "metadata": {},
   "outputs": [],
   "source": [
    "from scipy import optimize"
   ]
  },
  {
   "cell_type": "code",
   "execution_count": 83,
   "metadata": {},
   "outputs": [],
   "source": [
    "x = np.linspace(-3,3,500)\n",
    "y = x**3 + 2*x**2 - 3*x + 2 + np.random.normal(0, 1, size = 500)"
   ]
  },
  {
   "cell_type": "code",
   "execution_count": 84,
   "metadata": {},
   "outputs": [
    {
     "data": {
      "text/plain": [
       "array([ 1.00722597,  2.00288348, -3.02801079,  2.05646578])"
      ]
     },
     "execution_count": 84,
     "metadata": {},
     "output_type": "execute_result"
    }
   ],
   "source": [
    "z = np.polyfit(x, y, 3)\n",
    "z"
   ]
  },
  {
   "cell_type": "code",
   "execution_count": 85,
   "metadata": {},
   "outputs": [],
   "source": [
    "def f(x):\n",
    "    return z[0]*x**3 + z[1]*x**2 + z[2]*x + z[3]\n",
    "def negative_f(x):\n",
    "    return -f(x)"
   ]
  },
  {
   "cell_type": "code",
   "execution_count": 86,
   "metadata": {},
   "outputs": [],
   "source": [
    "minimum = optimize.fminbound(f, -3., 3.)\n",
    "maximum = optimize.fminbound(negative_f, -3., 3.)"
   ]
  },
  {
   "cell_type": "code",
   "execution_count": 87,
   "metadata": {},
   "outputs": [
    {
     "data": {
      "image/png": "[encoded data removed]",
      "text/plain": [
       "<Figure size 1152x864 with 1 Axes>"
      ]
     },
     "metadata": {
      "needs_background": "light"
     },
     "output_type": "display_data"
    }
   ],
   "source": [
    "plt.figure(figsize=(16,12))\n",
    "plt.plot(x,[f(x) for x in x])\n",
    "plt.scatter(minimum, f(minimum), linewidths=25, c = 'black')\n",
    "plt.scatter(maximum, f(maximum), linewidths=25, c = 'black')\n",
    "plt.plot(x,y)\n",
    "plt.show()"
   ]
  },
  {
   "cell_type": "markdown",
   "metadata": {},
   "source": [
    "# 6 Pandas + Scikit-learn (done)"
   ]
  },
  {
   "cell_type": "markdown",
   "metadata": {},
   "source": [
    "###### Считайте выборку про детектирование кожи на фотографиях с помощью pandas. Продемонстрируйте индексацию по строкам и столбцам, $label-based$ и $index-based$. Добавьте в $DataFrame$ столбцы, соответствующие попарным произведениям признаков и модулям попарных разностей. Запустите на исходных и модифицированных признаках $KNeighboursClassifier$, $LogisticRegression$ и $Random$ $Forest$ из $sklearn$ и сравните качество работы каждого метода до и после преобразования признаков."
   ]
  },
  {
   "cell_type": "code",
   "execution_count": 88,
   "metadata": {},
   "outputs": [],
   "source": [
    "import pandas as pd\n",
    "from sklearn.neighbors import KNeighborsClassifier\n",
    "from sklearn.linear_model import LogisticRegression\n",
    "from sklearn.ensemble import RandomForestClassifier"
   ]
  },
  {
   "cell_type": "code",
   "execution_count": 89,
   "metadata": {},
   "outputs": [],
   "source": [
    "data = pd.read_csv(\"Skin_NonSkin.txt\", header=None, names = ['a','b','c','target'], sep='\\t')"
   ]
  },
  {
   "cell_type": "code",
   "execution_count": 90,
   "metadata": {},
   "outputs": [
    {
     "data": {
      "text/plain": [
       "0         1\n",
       "1         1\n",
       "2         1\n",
       "3         1\n",
       "4         1\n",
       "5         1\n",
       "6         1\n",
       "7         1\n",
       "8         1\n",
       "9         1\n",
       "10        1\n",
       "11        1\n",
       "12        1\n",
       "13        1\n",
       "14        1\n",
       "15        1\n",
       "16        1\n",
       "17        1\n",
       "18        1\n",
       "19        1\n",
       "20        1\n",
       "21        1\n",
       "22        1\n",
       "23        1\n",
       "24        1\n",
       "25        1\n",
       "26        1\n",
       "27        1\n",
       "28        1\n",
       "29        1\n",
       "         ..\n",
       "245027    2\n",
       "245028    2\n",
       "245029    2\n",
       "245030    2\n",
       "245031    2\n",
       "245032    2\n",
       "245033    2\n",
       "245034    2\n",
       "245035    2\n",
       "245036    2\n",
       "245037    2\n",
       "245038    2\n",
       "245039    2\n",
       "245040    2\n",
       "245041    2\n",
       "245042    2\n",
       "245043    2\n",
       "245044    2\n",
       "245045    2\n",
       "245046    2\n",
       "245047    2\n",
       "245048    2\n",
       "245049    2\n",
       "245050    2\n",
       "245051    2\n",
       "245052    2\n",
       "245053    2\n",
       "245054    2\n",
       "245055    2\n",
       "245056    2\n",
       "Name: target, Length: 245057, dtype: int64"
      ]
     },
     "execution_count": 90,
     "metadata": {},
     "output_type": "execute_result"
    }
   ],
   "source": [
    "data.target"
   ]
  },
  {
   "cell_type": "code",
   "execution_count": 91,
   "metadata": {},
   "outputs": [
    {
     "data": {
      "text/plain": [
       "a          74\n",
       "b          85\n",
       "c         123\n",
       "target      1\n",
       "Name: 0, dtype: int64"
      ]
     },
     "execution_count": 91,
     "metadata": {},
     "output_type": "execute_result"
    }
   ],
   "source": [
    "data.iloc[0]"
   ]
  },
  {
   "cell_type": "code",
   "execution_count": 92,
   "metadata": {},
   "outputs": [
    {
     "data": {
      "text/plain": [
       "1"
      ]
     },
     "execution_count": 92,
     "metadata": {},
     "output_type": "execute_result"
    }
   ],
   "source": [
    "data.iloc[0][3]"
   ]
  },
  {
   "cell_type": "code",
   "execution_count": 93,
   "metadata": {},
   "outputs": [],
   "source": [
    "X = data.drop('target', axis = 1)\n",
    "y = data.target"
   ]
  },
  {
   "cell_type": "code",
   "execution_count": 94,
   "metadata": {},
   "outputs": [],
   "source": [
    "data['a_mul_b'] = data.a.multiply(data.b)\n",
    "data['a_mul_c'] = data.a.multiply(data.c)\n",
    "data['b_mul_c'] = data.b.multiply(data.c)\n",
    "data['a_dif_b'] = data.a.subtract(data.b).abs()\n",
    "data['a_dif_c'] = data.a.subtract(data.c).abs()\n",
    "data['b_dif_c'] = data.b.subtract(data.c).abs()"
   ]
  },
  {
   "cell_type": "code",
   "execution_count": 95,
   "metadata": {},
   "outputs": [],
   "source": [
    "X_modified = data.drop('target', axis = 1)"
   ]
  },
  {
   "cell_type": "code",
   "execution_count": 96,
   "metadata": {},
   "outputs": [],
   "source": [
    "np.random.seed(32)\n",
    "indices = np.random.permutation(data.shape[0])\n",
    "X = np.array(X)\n",
    "X_modified = np.array(X_modified)\n",
    "y = np.array(y)\n",
    "\n",
    "test_size = 100000\n",
    "\n",
    "X_train = X[indices[:-test_size]]\n",
    "X_test  = X[indices[-test_size:]]\n",
    "X_modified_train = X[indices[:-test_size]]\n",
    "X_modified_test = X[indices[-test_size:]]\n",
    "y_train = y[indices[:-test_size]]\n",
    "y_test  = y[indices[-test_size:]]"
   ]
  },
  {
   "cell_type": "code",
   "execution_count": 97,
   "metadata": {},
   "outputs": [
    {
     "data": {
      "text/plain": [
       "0.99943"
      ]
     },
     "execution_count": 97,
     "metadata": {},
     "output_type": "execute_result"
    }
   ],
   "source": [
    "model = KNeighborsClassifier()\n",
    "model.fit(X_train, y_train)\n",
    "\n",
    "model.score(X_test, y_test)"
   ]
  },
  {
   "cell_type": "code",
   "execution_count": 98,
   "metadata": {
    "scrolled": false
   },
   "outputs": [
    {
     "data": {
      "text/plain": [
       "0.99943"
      ]
     },
     "execution_count": 98,
     "metadata": {},
     "output_type": "execute_result"
    }
   ],
   "source": [
    "new_model = KNeighborsClassifier()\n",
    "new_model.fit(X_modified_train, y_train)\n",
    "\n",
    "model.score(X_modified_test, y_test)"
   ]
  },
  {
   "cell_type": "code",
   "execution_count": 99,
   "metadata": {},
   "outputs": [
    {
     "data": {
      "text/plain": [
       "0.91786"
      ]
     },
     "execution_count": 99,
     "metadata": {},
     "output_type": "execute_result"
    }
   ],
   "source": [
    "model = LogisticRegression()\n",
    "model.fit(X_train, y_train)\n",
    "\n",
    "model.score(X_test, y_test)"
   ]
  },
  {
   "cell_type": "code",
   "execution_count": 100,
   "metadata": {},
   "outputs": [
    {
     "data": {
      "text/plain": [
       "0.91786"
      ]
     },
     "execution_count": 100,
     "metadata": {},
     "output_type": "execute_result"
    }
   ],
   "source": [
    "model = LogisticRegression()\n",
    "model.fit(X_modified_train, y_train)\n",
    "\n",
    "model.score(X_modified_test, y_test)"
   ]
  },
  {
   "cell_type": "code",
   "execution_count": 101,
   "metadata": {},
   "outputs": [
    {
     "data": {
      "text/plain": [
       "0.99942"
      ]
     },
     "execution_count": 101,
     "metadata": {},
     "output_type": "execute_result"
    }
   ],
   "source": [
    "np.random.seed(32)\n",
    "model = RandomForestClassifier()\n",
    "model.fit(X_train, y_train)\n",
    "\n",
    "model.score(X_test, y_test)"
   ]
  },
  {
   "cell_type": "code",
   "execution_count": 102,
   "metadata": {},
   "outputs": [
    {
     "data": {
      "text/plain": [
       "0.99942"
      ]
     },
     "execution_count": 102,
     "metadata": {},
     "output_type": "execute_result"
    }
   ],
   "source": [
    "np.random.seed(32)\n",
    "model = RandomForestClassifier()\n",
    "model.fit(X_modified_train, y_train)\n",
    "\n",
    "model.score(X_modified_test, y_test)"
   ]
  }
 ],
 "metadata": {
  "kernelspec": {
   "display_name": "Python 3",
   "language": "python",
   "name": "python3"
  },
  "language_info": {
   "codemirror_mode": {
    "name": "ipython",
    "version": 3
   },
   "file_extension": ".py",
   "mimetype": "text/x-python",
   "name": "python",
   "nbconvert_exporter": "python",
   "pygments_lexer": "ipython3",
   "version": "3.6.2"
  }
 },
 "nbformat": 4,
 "nbformat_minor": 2
}
